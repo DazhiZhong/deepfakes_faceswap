{
 "cells": [
  {
   "cell_type": "markdown",
   "metadata": {},
   "source": [
    "See github repo https://github.com/DazhiZhong/deepfakes_faceswap\n",
    "\n",
    "have the shared file https://drive.google.com/file/d/1-2bNmny7Xlo818mqPCysw54C09FEyp4f/view?usp=sharing at \"drive/My Drive/face-swap.7z\" or change the code below"
   ]
  },
  {
   "cell_type": "code",
   "execution_count": null,
   "metadata": {
    "colab": {},
    "colab_type": "code",
    "id": "J10qlyq0iuQc"
   },
   "outputs": [],
   "source": [
    "# anonfile.com/p7w3m0d5be/face-swap.zip\n",
    "# !wget https://cdn-109.anonfiles.com/p7w3m0d5be/15ad131b-1596647177/face-swap.zip"
   ]
  },
  {
   "cell_type": "code",
   "execution_count": null,
   "metadata": {
    "colab": {
     "base_uri": "https://localhost:8080/",
     "height": 34
    },
    "colab_type": "code",
    "id": "UHILIXCb5J5f",
    "outputId": "290b12d0-e38b-4e3d-b58b-5000e43432b1"
   },
   "outputs": [
    {
     "name": "stdout",
     "output_type": "stream",
     "text": [
      "Mounted at /content/drive\n"
     ]
    }
   ],
   "source": [
    "from google.colab import drive\n",
    "drive.mount(\"/content/drive\")"
   ]
  },
  {
   "cell_type": "code",
   "execution_count": null,
   "metadata": {
    "colab": {},
    "colab_type": "code",
    "id": "Jc0vTgcT5yT_"
   },
   "outputs": [],
   "source": [
    "%%capture\n",
    "!pip uninstall -y tensorflow keras \n",
    "!pip install tensorflow==1.15 keras==2.1.3"
   ]
  },
  {
   "cell_type": "code",
   "execution_count": null,
   "metadata": {
    "colab": {},
    "colab_type": "code",
    "id": "w7K6v-8q5YA1"
   },
   "outputs": [],
   "source": [
    "!cp \"drive/My Drive/face-swap.7z\" \"./\""
   ]
  },
  {
   "cell_type": "code",
   "execution_count": null,
   "metadata": {
    "colab": {},
    "colab_type": "code",
    "id": "77lsLpPzbHhT"
   },
   "outputs": [],
   "source": [
    "%%capture\n",
    "!7z x face-swap.7z"
   ]
  },
  {
   "cell_type": "code",
   "execution_count": null,
   "metadata": {
    "colab": {
     "base_uri": "https://localhost:8080/",
     "height": 34
    },
    "colab_type": "code",
    "id": "iVKVs4f8odfP",
    "outputId": "13314d0a-086d-4790-e565-9c862972ba7a"
   },
   "outputs": [
    {
     "name": "stdout",
     "output_type": "stream",
     "text": [
      "/content/face-swap\n"
     ]
    }
   ],
   "source": [
    "%cd face-swap"
   ]
  },
  {
   "cell_type": "code",
   "execution_count": null,
   "metadata": {
    "colab": {
     "base_uri": "https://localhost:8080/",
     "height": 119
    },
    "colab_type": "code",
    "id": "7RlbrBHV-fX5",
    "outputId": "764182f9-6e8d-4138-eda8-fa606432068c"
   },
   "outputs": [
    {
     "name": "stdout",
     "output_type": "stream",
     "text": [
      "Cloning into 'Pytorch-metrics'...\n",
      "remote: Enumerating objects: 25, done.\u001b[K\n",
      "remote: Counting objects: 100% (25/25), done.\u001b[K\n",
      "remote: Compressing objects: 100% (24/24), done.\u001b[K\n",
      "remote: Total 25 (delta 7), reused 0 (delta 0), pack-reused 0\u001b[K\n",
      "Unpacking objects: 100% (25/25), done.\n"
     ]
    }
   ],
   "source": [
    "!git clone https://github.com/huster-wgm/Pytorch-metrics.git"
   ]
  },
  {
   "cell_type": "code",
   "execution_count": null,
   "metadata": {
    "colab": {},
    "colab_type": "code",
    "id": "cMD5RFzQ-lM1"
   },
   "outputs": [],
   "source": [
    "!cp Pytorch-metrics/metrics.py metrics.py"
   ]
  },
  {
   "cell_type": "code",
   "execution_count": null,
   "metadata": {
    "colab": {
     "base_uri": "https://localhost:8080/",
     "height": 1000
    },
    "colab_type": "code",
    "id": "9kRVWeJTp1SZ",
    "outputId": "975b3cf3-0dd1-488c-8984-62dc7ee5f673"
   },
   "outputs": [],
   "source": [
    "# %%capture\n",
    "\n",
    "import glob, os\n",
    "for f in glob.glob(\"f-img-*.png\"):\n",
    "    os.remove(f)\n",
    "!python attack.py"
   ]
  },
  {
   "cell_type": "markdown",
   "metadata": {
    "colab_type": "text",
    "id": "U80GYaP25zs1"
   },
   "source": [
    "<a href=\"https://imgbb.com/\"><img src=\"https://i.ibb.co/RPGLtmk/examples-truepcas.png\" alt=\"examples-truepcas\" border=\"0\"></a>\n",
    "attack results"
   ]
  },
  {
   "cell_type": "code",
   "execution_count": null,
   "metadata": {
    "colab": {},
    "colab_type": "code",
    "id": "oGn6_d0frONE"
   },
   "outputs": [],
   "source": [
    "# saving to drive\n",
    "\n",
    "%cd ..\n",
    "!7z a -aoa face-swap.7z face-swap/\n",
    "!cp -rf face-swap.7z \"drive/My Drive/ckpt\""
   ]
  }
 ],
 "metadata": {
  "accelerator": "GPU",
  "colab": {
   "collapsed_sections": [],
   "name": "face swap",
   "provenance": []
  },
  "kernelspec": {
   "display_name": "Python 3",
   "language": "python",
   "name": "python3"
  },
  "language_info": {
   "codemirror_mode": {
    "name": "ipython",
    "version": 3
   },
   "file_extension": ".py",
   "mimetype": "text/x-python",
   "name": "python",
   "nbconvert_exporter": "python",
   "pygments_lexer": "ipython3",
   "version": "3.7.4"
  }
 },
 "nbformat": 4,
 "nbformat_minor": 1
}
